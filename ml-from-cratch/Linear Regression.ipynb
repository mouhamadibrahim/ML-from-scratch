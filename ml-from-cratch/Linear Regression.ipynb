{
 "cells": [
  {
   "cell_type": "code",
   "execution_count": 1,
   "metadata": {},
   "outputs": [],
   "source": [
    "import datetime\n",
    "import pandas as pd  \n",
    "import numpy as np  \n",
    "import matplotlib.pyplot as plt  \n",
    "from sklearn.model_selection import train_test_split \n",
    "from sklearn.linear_model import LinearRegression\n",
    "from sklearn import metrics\n",
    "from sklearn.metrics import r2_score"
   ]
  },
  {
   "cell_type": "code",
   "execution_count": 2,
   "metadata": {},
   "outputs": [],
   "source": [
    "def linear_regression_equation(index,a_close):\n",
    "    denominator = index.dot(index) - index.mean()*index.sum()\n",
    "    m = ((a_close.dot(index)) - a_close.mean() * index.sum()) / denominator\n",
    "    b = ((a_close.mean() * index.dot(index)) - (index.mean() * a_close.dot(index)))/denominator\n",
    "    y_pred = m*index + b\n",
    "    return y_pred\n",
    "\n",
    "def rsquared(y_pred,a_close):\n",
    "         res = a_close - y_pred\n",
    "         tot = a_close - a_close.mean()\n",
    "         rsquared = 1 - (res.dot(res)/tot.dot(tot))\n",
    "         return rsquared"
   ]
  },
  {
   "cell_type": "code",
   "execution_count": 3,
   "metadata": {},
   "outputs": [],
   "source": [
    "data = pd.read_csv('AAPL.csv') #import data"
   ]
  },
  {
   "cell_type": "code",
   "execution_count": 4,
   "metadata": {},
   "outputs": [
    {
     "data": {
      "text/html": [
       "<div>\n",
       "<style scoped>\n",
       "    .dataframe tbody tr th:only-of-type {\n",
       "        vertical-align: middle;\n",
       "    }\n",
       "\n",
       "    .dataframe tbody tr th {\n",
       "        vertical-align: top;\n",
       "    }\n",
       "\n",
       "    .dataframe thead th {\n",
       "        text-align: right;\n",
       "    }\n",
       "</style>\n",
       "<table border=\"1\" class=\"dataframe\">\n",
       "  <thead>\n",
       "    <tr style=\"text-align: right;\">\n",
       "      <th></th>\n",
       "      <th>Date</th>\n",
       "      <th>Open</th>\n",
       "      <th>High</th>\n",
       "      <th>Low</th>\n",
       "      <th>Close</th>\n",
       "      <th>Adj Close</th>\n",
       "      <th>Volume</th>\n",
       "    </tr>\n",
       "  </thead>\n",
       "  <tbody>\n",
       "    <tr>\n",
       "      <th>0</th>\n",
       "      <td>2020-05-18</td>\n",
       "      <td>78.292503</td>\n",
       "      <td>79.125000</td>\n",
       "      <td>77.580002</td>\n",
       "      <td>78.739998</td>\n",
       "      <td>78.212997</td>\n",
       "      <td>135178400</td>\n",
       "    </tr>\n",
       "    <tr>\n",
       "      <th>1</th>\n",
       "      <td>2020-05-19</td>\n",
       "      <td>78.757500</td>\n",
       "      <td>79.629997</td>\n",
       "      <td>78.252502</td>\n",
       "      <td>78.285004</td>\n",
       "      <td>77.761040</td>\n",
       "      <td>101729600</td>\n",
       "    </tr>\n",
       "    <tr>\n",
       "      <th>2</th>\n",
       "      <td>2020-05-20</td>\n",
       "      <td>79.169998</td>\n",
       "      <td>79.879997</td>\n",
       "      <td>79.129997</td>\n",
       "      <td>79.807503</td>\n",
       "      <td>79.273354</td>\n",
       "      <td>111504800</td>\n",
       "    </tr>\n",
       "    <tr>\n",
       "      <th>3</th>\n",
       "      <td>2020-05-21</td>\n",
       "      <td>79.665001</td>\n",
       "      <td>80.222504</td>\n",
       "      <td>78.967499</td>\n",
       "      <td>79.212502</td>\n",
       "      <td>78.682327</td>\n",
       "      <td>102688800</td>\n",
       "    </tr>\n",
       "    <tr>\n",
       "      <th>4</th>\n",
       "      <td>2020-05-22</td>\n",
       "      <td>78.942497</td>\n",
       "      <td>79.807503</td>\n",
       "      <td>78.837502</td>\n",
       "      <td>79.722504</td>\n",
       "      <td>79.188927</td>\n",
       "      <td>81803200</td>\n",
       "    </tr>\n",
       "  </tbody>\n",
       "</table>\n",
       "</div>"
      ],
      "text/plain": [
       "         Date       Open       High        Low      Close  Adj Close  \\\n",
       "0  2020-05-18  78.292503  79.125000  77.580002  78.739998  78.212997   \n",
       "1  2020-05-19  78.757500  79.629997  78.252502  78.285004  77.761040   \n",
       "2  2020-05-20  79.169998  79.879997  79.129997  79.807503  79.273354   \n",
       "3  2020-05-21  79.665001  80.222504  78.967499  79.212502  78.682327   \n",
       "4  2020-05-22  78.942497  79.807503  78.837502  79.722504  79.188927   \n",
       "\n",
       "      Volume  \n",
       "0  135178400  \n",
       "1  101729600  \n",
       "2  111504800  \n",
       "3  102688800  \n",
       "4   81803200  "
      ]
     },
     "execution_count": 4,
     "metadata": {},
     "output_type": "execute_result"
    }
   ],
   "source": [
    "data.head() #check the data"
   ]
  },
  {
   "cell_type": "code",
   "execution_count": 5,
   "metadata": {},
   "outputs": [],
   "source": [
    "data['Index'] = range(0,data['Adj Close'].size)"
   ]
  },
  {
   "cell_type": "code",
   "execution_count": 6,
   "metadata": {},
   "outputs": [
    {
     "data": {
      "text/html": [
       "<div>\n",
       "<style scoped>\n",
       "    .dataframe tbody tr th:only-of-type {\n",
       "        vertical-align: middle;\n",
       "    }\n",
       "\n",
       "    .dataframe tbody tr th {\n",
       "        vertical-align: top;\n",
       "    }\n",
       "\n",
       "    .dataframe thead th {\n",
       "        text-align: right;\n",
       "    }\n",
       "</style>\n",
       "<table border=\"1\" class=\"dataframe\">\n",
       "  <thead>\n",
       "    <tr style=\"text-align: right;\">\n",
       "      <th></th>\n",
       "      <th>Date</th>\n",
       "      <th>Open</th>\n",
       "      <th>High</th>\n",
       "      <th>Low</th>\n",
       "      <th>Close</th>\n",
       "      <th>Adj Close</th>\n",
       "      <th>Volume</th>\n",
       "      <th>Index</th>\n",
       "    </tr>\n",
       "  </thead>\n",
       "  <tbody>\n",
       "    <tr>\n",
       "      <th>0</th>\n",
       "      <td>2020-05-18</td>\n",
       "      <td>78.292503</td>\n",
       "      <td>79.125000</td>\n",
       "      <td>77.580002</td>\n",
       "      <td>78.739998</td>\n",
       "      <td>78.212997</td>\n",
       "      <td>135178400</td>\n",
       "      <td>0</td>\n",
       "    </tr>\n",
       "    <tr>\n",
       "      <th>1</th>\n",
       "      <td>2020-05-19</td>\n",
       "      <td>78.757500</td>\n",
       "      <td>79.629997</td>\n",
       "      <td>78.252502</td>\n",
       "      <td>78.285004</td>\n",
       "      <td>77.761040</td>\n",
       "      <td>101729600</td>\n",
       "      <td>1</td>\n",
       "    </tr>\n",
       "    <tr>\n",
       "      <th>2</th>\n",
       "      <td>2020-05-20</td>\n",
       "      <td>79.169998</td>\n",
       "      <td>79.879997</td>\n",
       "      <td>79.129997</td>\n",
       "      <td>79.807503</td>\n",
       "      <td>79.273354</td>\n",
       "      <td>111504800</td>\n",
       "      <td>2</td>\n",
       "    </tr>\n",
       "    <tr>\n",
       "      <th>3</th>\n",
       "      <td>2020-05-21</td>\n",
       "      <td>79.665001</td>\n",
       "      <td>80.222504</td>\n",
       "      <td>78.967499</td>\n",
       "      <td>79.212502</td>\n",
       "      <td>78.682327</td>\n",
       "      <td>102688800</td>\n",
       "      <td>3</td>\n",
       "    </tr>\n",
       "    <tr>\n",
       "      <th>4</th>\n",
       "      <td>2020-05-22</td>\n",
       "      <td>78.942497</td>\n",
       "      <td>79.807503</td>\n",
       "      <td>78.837502</td>\n",
       "      <td>79.722504</td>\n",
       "      <td>79.188927</td>\n",
       "      <td>81803200</td>\n",
       "      <td>4</td>\n",
       "    </tr>\n",
       "  </tbody>\n",
       "</table>\n",
       "</div>"
      ],
      "text/plain": [
       "         Date       Open       High        Low      Close  Adj Close  \\\n",
       "0  2020-05-18  78.292503  79.125000  77.580002  78.739998  78.212997   \n",
       "1  2020-05-19  78.757500  79.629997  78.252502  78.285004  77.761040   \n",
       "2  2020-05-20  79.169998  79.879997  79.129997  79.807503  79.273354   \n",
       "3  2020-05-21  79.665001  80.222504  78.967499  79.212502  78.682327   \n",
       "4  2020-05-22  78.942497  79.807503  78.837502  79.722504  79.188927   \n",
       "\n",
       "      Volume  Index  \n",
       "0  135178400      0  \n",
       "1  101729600      1  \n",
       "2  111504800      2  \n",
       "3  102688800      3  \n",
       "4   81803200      4  "
      ]
     },
     "execution_count": 6,
     "metadata": {},
     "output_type": "execute_result"
    }
   ],
   "source": [
    "data.head()"
   ]
  },
  {
   "cell_type": "code",
   "execution_count": 7,
   "metadata": {},
   "outputs": [],
   "source": [
    "new_data = data['Index'] + data['Adj Close']"
   ]
  },
  {
   "cell_type": "code",
   "execution_count": 8,
   "metadata": {},
   "outputs": [],
   "source": [
    "frame = { 'Index': data['Index'], 'Adj Close': data['Adj Close'] } \n",
    "  \n",
    "new_data = pd.DataFrame(frame) "
   ]
  },
  {
   "cell_type": "code",
   "execution_count": 9,
   "metadata": {},
   "outputs": [
    {
     "data": {
      "text/html": [
       "<div>\n",
       "<style scoped>\n",
       "    .dataframe tbody tr th:only-of-type {\n",
       "        vertical-align: middle;\n",
       "    }\n",
       "\n",
       "    .dataframe tbody tr th {\n",
       "        vertical-align: top;\n",
       "    }\n",
       "\n",
       "    .dataframe thead th {\n",
       "        text-align: right;\n",
       "    }\n",
       "</style>\n",
       "<table border=\"1\" class=\"dataframe\">\n",
       "  <thead>\n",
       "    <tr style=\"text-align: right;\">\n",
       "      <th></th>\n",
       "      <th>Index</th>\n",
       "      <th>Adj Close</th>\n",
       "    </tr>\n",
       "  </thead>\n",
       "  <tbody>\n",
       "    <tr>\n",
       "      <th>0</th>\n",
       "      <td>0</td>\n",
       "      <td>78.212997</td>\n",
       "    </tr>\n",
       "    <tr>\n",
       "      <th>1</th>\n",
       "      <td>1</td>\n",
       "      <td>77.761040</td>\n",
       "    </tr>\n",
       "    <tr>\n",
       "      <th>2</th>\n",
       "      <td>2</td>\n",
       "      <td>79.273354</td>\n",
       "    </tr>\n",
       "    <tr>\n",
       "      <th>3</th>\n",
       "      <td>3</td>\n",
       "      <td>78.682327</td>\n",
       "    </tr>\n",
       "    <tr>\n",
       "      <th>4</th>\n",
       "      <td>4</td>\n",
       "      <td>79.188927</td>\n",
       "    </tr>\n",
       "  </tbody>\n",
       "</table>\n",
       "</div>"
      ],
      "text/plain": [
       "   Index  Adj Close\n",
       "0      0  78.212997\n",
       "1      1  77.761040\n",
       "2      2  79.273354\n",
       "3      3  78.682327\n",
       "4      4  79.188927"
      ]
     },
     "execution_count": 9,
     "metadata": {},
     "output_type": "execute_result"
    }
   ],
   "source": [
    "new_data.head()"
   ]
  },
  {
   "cell_type": "code",
   "execution_count": 12,
   "metadata": {},
   "outputs": [
    {
     "data": {
      "image/png": "[encoded data removed]",
      "text/plain": [
       "<Figure size 432x288 with 1 Axes>"
      ]
     },
     "metadata": {
      "needs_background": "light"
     },
     "output_type": "display_data"
    }
   ],
   "source": [
    "sliding_window = 0\n",
    "\n",
    "for i in range(20,new_data['Index'].size):\n",
    "        adjustable = int(new_data['Index'][-1:] - i)\n",
    "        k = adjustable - 90\n",
    "        k2 =  new_data[['Index' ,'Adj Close']].query('Index > @k and Index <= @adjustable')\n",
    "        Index_array = np.array(k2['Index'])\n",
    "        aclose_array = np.array(k2['Adj Close'])\n",
    "        linreg = linear_regression_equation(Index_array,aclose_array)\n",
    "        rsquared_value = float(rsquared(linreg,aclose_array))\n",
    "        if rsquared_value > 0.7:\n",
    "            plt.scatter(Index_array,aclose_array)\n",
    "            plt.plot(Index_array,linreg)\n",
    "            break\n",
    "        else:\n",
    "            sliding_window = sliding_window+1"
   ]
  },
  {
   "cell_type": "code",
   "execution_count": null,
   "metadata": {},
   "outputs": [],
   "source": []
  }
 ],
 "metadata": {
  "kernelspec": {
   "display_name": "Python 3",
   "language": "python",
   "name": "python3"
  },
  "language_info": {
   "codemirror_mode": {
    "name": "ipython",
    "version": 3
   },
   "file_extension": ".py",
   "mimetype": "text/x-python",
   "name": "python",
   "nbconvert_exporter": "python",
   "pygments_lexer": "ipython3",
   "version": "3.8.5"
  }
 },
 "nbformat": 4,
 "nbformat_minor": 4
}
